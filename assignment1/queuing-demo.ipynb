{
 "cells": [
  {
   "cell_type": "markdown",
   "id": "21483464-a9a9-4b96-b2c9-28bf7e9d98f1",
   "metadata": {},
   "source": [
    "# Simple Queuing Demo"
   ]
  },
  {
   "cell_type": "markdown",
   "id": "557375ff-8c73-44e4-b9a3-356f5992c738",
   "metadata": {},
   "source": [
    "## Deterministic case"
   ]
  },
  {
   "cell_type": "code",
   "execution_count": 1,
   "id": "080b811b-cdf5-40f8-a6b0-c176a1e6a4cb",
   "metadata": {},
   "outputs": [],
   "source": [
    "import numpy as np\n",
    "import matplotlib as mpt\n",
    "import matplotlib.pyplot as plt"
   ]
  },
  {
   "cell_type": "code",
   "execution_count": 2,
   "id": "1d261cd5-71ea-43e0-8488-d0c1bdc07d75",
   "metadata": {},
   "outputs": [],
   "source": [
    "# maximum packet arrival rate\n",
    "a_max = 5;\n",
    "\n",
    "# arrival rate array\n",
    "arrival_rate = np.arange(a_max+1)\n",
    "\n",
    "# time horizon\n",
    "T = 100\n",
    "\n",
    "L = 2 # bits per packet\n",
    "R = 5 # transmission rate"
   ]
  },
  {
   "cell_type": "code",
   "execution_count": 3,
   "id": "1788b6f1-1aa7-41e7-bbd1-c366815eeb77",
   "metadata": {},
   "outputs": [],
   "source": [
    "# array to store average queue size for each arrival rate \n",
    "avg_queue_size = np.zeros(a_max+1)\n",
    "\n",
    "# loop over various arrival rates\n",
    "for i in arrival_rate:\n",
    "    \n",
    "    # initialize queue over the time horizon\n",
    "    queue_size_bits = np.zeros(T+1)\n",
    "    \n",
    "    # iterate over the time horizon to calculate queue at each time instant\n",
    "    for t in range(T): \n",
    "        if t == 0:\n",
    "            queue_size_bits[t] = max(L*i - R,0)\n",
    "        else:\n",
    "            queue_size_bits[t] = max(queue_size_bits[t-1] + L*i - R,0)\n",
    "    \n",
    "    # take average over the time horizon\n",
    "    avg_queue_size[i] = np.mean(queue_size_bits)"
   ]
  },
  {
   "cell_type": "code",
   "execution_count": 4,
   "id": "14cb9694-c491-46c3-b5c0-de36151012bf",
   "metadata": {},
   "outputs": [
    {
     "data": {
      "text/plain": [
       "Text(0.5, 0, 'Arrival Rate')"
      ]
     },
     "execution_count": 4,
     "metadata": {},
     "output_type": "execute_result"
    },
    {
     "data": {
      "image/png": "[encoded data removed]",
      "text/plain": [
       "<Figure size 432x288 with 1 Axes>"
      ]
     },
     "metadata": {
      "needs_background": "light"
     },
     "output_type": "display_data"
    }
   ],
   "source": [
    "# plot\n",
    "fig, ax = plt.subplots()\n",
    "ax.plot(arrival_rate, avg_queue_size)\n",
    "ax.set_title('Network queue simulation')\n",
    "ax.set_ylabel('Queue size (bits)')\n",
    "ax.set_xlabel('Arrival Rate')"
   ]
  },
  {
   "cell_type": "markdown",
   "id": "b8132849-68ef-480e-ad70-185b4a1d4f22",
   "metadata": {},
   "source": [
    "## How to bring in randomness"
   ]
  },
  {
   "cell_type": "code",
   "execution_count": 5,
   "id": "cc589f0b-16bd-4561-8d17-d5834020ffd8",
   "metadata": {},
   "outputs": [
    {
     "name": "stdout",
     "output_type": "stream",
     "text": [
      "[0]\n"
     ]
    }
   ],
   "source": [
    "# simulating random arrival of a packet\n",
    "import random\n",
    "n, p = 1, 0.5\n",
    "s = np.random.binomial(n,p,1)\n",
    "print(s)"
   ]
  },
  {
   "cell_type": "code",
   "execution_count": 6,
   "id": "a3ced6fb-b4f1-423c-8494-703c2ccc8a7b",
   "metadata": {},
   "outputs": [
    {
     "data": {
      "text/plain": [
       "[4]"
      ]
     },
     "execution_count": 6,
     "metadata": {},
     "output_type": "execute_result"
    }
   ],
   "source": [
    "# sampling from a set of values to simulate random packet arrival\n",
    "packet_sizes = [1,2,3,4]\n",
    "# weights = [0.25,0.25,0.25,0.25]\n",
    "weights = [0,0,0,1]\n",
    "random.choices(packet_sizes, weights, k=1)"
   ]
  },
  {
   "cell_type": "code",
   "execution_count": null,
   "id": "74bfc72b-a32d-433e-b4e0-83a413ed0a9e",
   "metadata": {},
   "outputs": [],
   "source": []
  }
 ],
 "metadata": {
  "kernelspec": {
   "display_name": "Python 3 (ipykernel)",
   "language": "python3",
   "name": "python3"
  },
  "language_info": {
   "codemirror_mode": {
    "name": "ipython",
    "version": 3
   },
   "file_extension": ".py",
   "mimetype": "text/x-python",
   "name": "python",
   "nbconvert_exporter": "python",
   "pygments_lexer": "ipython3",
   "version": "3.8.10"
  }
 },
 "nbformat": 4,
 "nbformat_minor": 5
}
